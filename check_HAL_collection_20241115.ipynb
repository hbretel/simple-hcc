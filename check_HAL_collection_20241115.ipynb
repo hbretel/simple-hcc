{
  "cells": [
    {
      "cell_type": "markdown",
      "metadata": {
        "id": "5dIiDTF-wq6S"
      },
      "source": [
        "# Vérifier si des publications sont dans la collection HAL d'un laboratoire\n",
        "Charger les \"librairies\" (boîtes à outils de code) qui seront nécessaires pour l'opération.\n",
        "Si nécessaire, les installer d'abord."
      ]
    },
    {
      "cell_type": "code",
      "execution_count": null,
      "metadata": {
        "colab": {
          "base_uri": "https://localhost:8080/"
        },
        "id": "sjL9UKJ9oHaq",
        "outputId": "7e5a4ca5-d24d-45e6-d4b4-1bebd2059214"
      },
      "outputs": [],
      "source": [
        "# ! pip install -r requirements.txt"
      ]
    },
    {
      "cell_type": "code",
      "execution_count": 15,
      "metadata": {
        "id": "All52elQCKQ4"
      },
      "outputs": [
        {
          "data": {
            "text/plain": [
              "''"
            ]
          },
          "execution_count": 15,
          "metadata": {},
          "output_type": "execute_result"
        }
      ],
      "source": [
        "import requests\n",
        "import pandas as pd\n",
        "import regex as re\n",
        "from unidecode import unidecode\n",
        "from langdetect import detect\n",
        "from tqdm import tqdm\n",
        "tqdm.pandas()\n",
        "import tkinter as tk\n",
        "from tkinter import filedialog as fd \n",
        "tk.Tk().withdraw()"
      ]
    },
    {
      "cell_type": "markdown",
      "metadata": {
        "id": "NH0oduIMtRkP"
      },
      "source": [
        "Ecrire dans la fenêtre ouverte par la cellule suivante le code de la collection à vérifier (en majuscules)"
      ]
    },
    {
      "cell_type": "code",
      "execution_count": 16,
      "metadata": {
        "id": "yifqj0yXGgwU"
      },
      "outputs": [],
      "source": [
        "collection_a_chercher=tk.simpledialog.askstring(prompt=\"Entrez le code de la collection HAL de votre structure\",title='Code de la collection')"
      ]
    },
    {
      "cell_type": "markdown",
      "metadata": {
        "id": "KqrPLBVksIsx"
      },
      "source": [
        "Choisir dans la fenêtre ouverte par la cellule suivante le fichier contenant les publications à comparer avec HAL. Ce doit être un fichier Excel."
      ]
    },
    {
      "cell_type": "code",
      "execution_count": 17,
      "metadata": {
        "id": "41pnPj6WxueR"
      },
      "outputs": [],
      "source": [
        "fichier=fd.askopenfilename(title='Choisissez le fichier qui contient les publications à vérifier')"
      ]
    },
    {
      "cell_type": "markdown",
      "metadata": {
        "id": "AX49y_xqwk6x"
      },
      "source": [
        "Charger depuis HAL les documents de la collection"
      ]
    },
    {
      "cell_type": "code",
      "execution_count": 18,
      "metadata": {
        "colab": {
          "base_uri": "https://localhost:8080/",
          "height": 453
        },
        "id": "xIuOula41fyL",
        "outputId": "f60daad4-ce6e-4970-bc2b-4ec19fa3b86b"
      },
      "outputs": [
        {
          "name": "stdout",
          "output_type": "stream",
          "text": [
            "publications trouvées : 607\n",
            "terminé : 607 publications chargées\t"
          ]
        }
      ],
      "source": [
        "endpoint=\"http://api.archives-ouvertes.fr/search/\"\n",
        "n=requests.get(f\"{endpoint}{collection_a_chercher}/?q=*&fq=publicationDateY_i:[2018 TO *]&fl=docid,doiId_s,title_s&rows=0&sort=docid asc&wt=json\").json()['response']['numFound']\n",
        "print (f'publications trouvées : {n}')\n",
        "docid_coll=list()\n",
        "dois_coll=list()\n",
        "titres_coll=list()\n",
        "if n>1000:\n",
        "  current=0\n",
        "  cursor=\"\"\n",
        "  next_cursor=\"*\"\n",
        "  while cursor != next_cursor:\n",
        "    print(f\"\\ren cours : {current}\",end=\"\\t\")\n",
        "    cursor=next_cursor\n",
        "    page=requests.get(f\"{endpoint}{collection_a_chercher}/?q=*&fq=publicationDateY_i:[2018 TO *]&fl=docid,doiId_s,title_s&rows=1000&cursorMark={cursor}&sort=docid asc&wt=json\").json()\n",
        "    for d in page['response']['docs']:\n",
        "        for t in d['title_s']:\n",
        "            titres_coll.append(t)\n",
        "            docid_coll.append(d['docid'])\n",
        "            try:\n",
        "                dois_coll.append(d['doiId_s'].lower())\n",
        "            except KeyError:\n",
        "                dois_coll.append(\"\")\n",
        "    current+=1000\n",
        "    next_cursor=page['nextCursorMark']\n",
        "else:\n",
        "  for d in requests.get(f\"{endpoint}{collection_a_chercher}/?q=*&fq=publicationDateY_i:[2018 TO *]&fl=docid,doiId_s,title_s&rows=1000&sort=docid asc&wt=json\").json()['response']['docs']:\n",
        "    for t in d['title_s']:\n",
        "        titres_coll.append(t)\n",
        "        docid_coll.append(d['docid'])\n",
        "        try:\n",
        "            dois_coll.append(d['doiId_s'].lower())\n",
        "        except KeyError:\n",
        "            dois_coll.append(\"\")\n",
        "coll_df=pd.DataFrame({'Hal_ids':docid_coll,'DOIs':dois_coll,'Titres':titres_coll})\n",
        "print(f\"\\rterminé : {n} publications chargées\",end=\"\\t\")"
      ]
    },
    {
      "cell_type": "markdown",
      "metadata": {
        "id": "exA6p8ZYyRf_"
      },
      "source": [
        "Comparer les publications du fichier du labo avec celles issues de HAL. C'est l'opération la plus complexe car chaque ligne fait l'objet de deux comparaisons potentielles : DOI et titre."
      ]
    },
    {
      "cell_type": "code",
      "execution_count": 19,
      "metadata": {
        "colab": {
          "base_uri": "https://localhost:8080/"
        },
        "id": "yGNYljrpokdZ",
        "outputId": "d313fd71-aa89-425d-af7e-bf66eb16bd0f"
      },
      "outputs": [],
      "source": [
        "escapeRules ={'+':r'\\+','-':r'\\-','&':r'\\&','|':r'\\|','!':r'\\!','(':r'\\(',')':r'\\)','{':r'\\{','}':r'\\}','[':r'\\[',\n",
        "              ']':r'\\]','^':r'\\^','~':r'\\~','*':r'\\*','?':r'\\?',':':r'\\:','\"':r'\\\"'}\n",
        "def escapedSeq(term):\n",
        "    \"\"\" Yield the next string based on the        \n",
        "    next character (either this char        \n",
        "    or escaped version \"\"\"\n",
        "    for char in term:\n",
        "        if char in escapeRules.keys():\n",
        "            yield escapeRules[char]\n",
        "        else:\n",
        "            yield char\n",
        "def escapeSolrArg(term):\n",
        "    \"\"\" Apply escaping to the passed in query terms       \n",
        "    escaping special characters like : , etc\"\"\"\n",
        "    term = term.replace('\\\\',r'\\\\') # escape \\ first\n",
        "    return\"\".join([nextStr for nextStr in escapedSeq(term)])\n",
        "\n",
        "def normalise(s):\n",
        "    return re.sub(' +', ' ',unidecode(re.sub(r'\\W',' ', s))).lower()\n",
        "\n",
        "def compare_inex(nti,cti):\n",
        "    nti=normalise(nti).strip()\n",
        "    if len(nti)*1.1 > len(cti) > len(nti)*0.9:\n",
        "        if len(cti) > 50:\n",
        "            if re.fullmatch(\"(\"+nti[:50]+\"){5}\",cti[:50]):\n",
        "                return cti if  re.fullmatch(\"(\"+nti+\"){\"+f\"e<={int(len(cti)/10)}\"+\"}\",cti) else False\n",
        "        else:\n",
        "            return cti if  re.fullmatch(\"(\"+nti+\"){\"+f\"e<={int(len(cti)/10)}\"+\"}\",cti) else False\n",
        "    return False\n",
        "\n",
        "def ex_in_coll(ti):\n",
        "    try:\n",
        "        return [\"titre trouvé dans la collection : probablement déjà présent\",ti,coll_df[coll_df['Titres']==ti].iloc[0,0]]\n",
        "    except IndexError:\n",
        "        return False\n",
        "\n",
        "def inex_in_coll(nti):\n",
        "    for x in list(coll_df['nti']):\n",
        "        y = compare_inex(nti,x)\n",
        "        if y: \n",
        "            return [\"titre approchant trouvé dans la collection : à vérifier\",coll_df[coll_df['nti']==y].iloc[0,2],coll_df[coll_df['nti']==y].iloc[0,0]]\n",
        "    return False\n",
        "\n",
        "def in_hal(nti,ti):\n",
        "    try:\n",
        "        r_ex=requests.get(f\"{endpoint}?q=title_t:{nti}&rows=1&fl=docid,title_s\").json()['response']\n",
        "        if r_ex['numFound'] >0:\n",
        "            if any(ti==x for x in r_ex['docs'][0]['title_s']):\n",
        "                return [\"titre trouvé dans HAL mais hors de la collection : affiliation probablement à corriger\",\n",
        "                        r_ex['docs'][0]['title_s'][0],\n",
        "                        r_ex['docs'][0]['docid']]\n",
        "    except KeyError:\n",
        "        r_inex=requests.get(f\"{endpoint}?q=title_t:{ti}&rows=1&fl=docid,title_s\").json()['response']\n",
        "        if r_inex['numFound'] >0:\n",
        "            return [\"titre approchant trouvé dans HAL mais hors de la collection : vérifier les affiliations\",\n",
        "                    r_inex['response']['docs'][0]['title_s'][0],\n",
        "                    r_inex['response']['docs'][0]['docid']] if any(compare_inex(ti,x) for x in [r_inex['response']['docs'][0]['title_s']]) else [\"hors HAL\",\"\",\"\"]\n",
        "    return [\"hors HAL\",\"\",\"\"]\n",
        "\n",
        "dois_a_checker=pd.read_excel(fichier)\n",
        "dois_a_checker.rename({\"DOI\":'doi',\"display_name\":\"Title\",\"Article Title\":\"Title\"},axis='columns',inplace=True)\n",
        "dois_a_checker['Statut']=''\n",
        "coll_df['nti']=coll_df['Titres'].apply(lambda x : normalise(x).strip())\n",
        "\n",
        "def statut_titre(title):\n",
        "    try:\n",
        "        title=title[re.match(r\".*\\[\",title).span()[1]:] if title[len(title)-1]==\"]\" and detect(title[:re.match(r\".*\\[\",ti).span()[1]]) != detect(title[re.match(r\".*\\[\",title).span()[1]:]) else title      \n",
        "    except:\n",
        "        title=title\n",
        "    try:\n",
        "        ti='\\\"'+escapeSolrArg(title)+'\\\"'\n",
        "        nti=title\n",
        "    except TypeError:\n",
        "        return [\"titre invalide\",\"\",\"\"]\n",
        "    try:\n",
        "        c_ex=ex_in_coll(title)\n",
        "        if c_ex:\n",
        "            return c_ex\n",
        "        else:\n",
        "            c_inex = inex_in_coll(title)\n",
        "            if c_inex:\n",
        "                return c_inex\n",
        "            else:\n",
        "                r_ex=in_hal(nti,ti)\n",
        "                return r_ex\n",
        "    except KeyError:\n",
        "        return [\"titre incorrect, probablement absent de HAL\",\"\",\"\"]\n",
        "\n",
        "def doi_in_hal(ndo):\n",
        "    r=requests.get(f\"{endpoint}?q=doiId_id:{ndo}&rows=1&fl=docid,title_s\").json()\n",
        "    if r['response']['numFound'] >0:\n",
        "        return [\"Dans HAL mais hors de la collection\",\n",
        "                r['response']['docs'][0]['title_s'][0],\n",
        "                r['response']['docs'][0]['docid']]\n",
        "    return [\"hors HAL\",\"\",\"\"]\n",
        "\n",
        "def statut_doi(do):\n",
        "    if do==do:\n",
        "        ndo=re.sub(r\"\\[.*\\]\",\"\",do.replace(\"https://doi.org/\",\"\").lower())\n",
        "        if do in dois_coll:\n",
        "            return [\"Dans la collection\",coll_df[coll_df['DOIs']==do].iloc[0,2],coll_df[coll_df['DOIs']==do].iloc[0,0]]\n",
        "        else:\n",
        "            return doi_in_hal(ndo)\n",
        "    elif do!=do:\n",
        "        return [\"pas de DOI valide\",\"\",\"\"]\n",
        "\n",
        "def check_df(df):\n",
        "    df[['Statut','titre_si_trouvé','url_hal_si_trouvé']]=df.progress_apply(lambda x:statut_doi(x['doi']) \n",
        "                                                                           if statut_doi(x['doi'])[0] in (\"Dans la collection\",\"Dans HAL mais hors de la collection\") \n",
        "                                                                           else statut_titre(x['Title']),axis=1).tolist()"
      ]
    },
    {
      "cell_type": "code",
      "execution_count": 20,
      "metadata": {},
      "outputs": [
        {
          "name": "stderr",
          "output_type": "stream",
          "text": [
            " 44%|████▎     | 628/1438 [04:29<05:47,  2.33it/s]\n"
          ]
        },
        {
          "ename": "KeyError",
          "evalue": "'response'",
          "output_type": "error",
          "traceback": [
            "\u001b[1;31m---------------------------------------------------------------------------\u001b[0m",
            "\u001b[1;31mKeyError\u001b[0m                                  Traceback (most recent call last)",
            "Cell \u001b[1;32mIn[20], line 1\u001b[0m\n\u001b[1;32m----> 1\u001b[0m \u001b[43mcheck_df\u001b[49m\u001b[43m(\u001b[49m\u001b[43mdois_a_checker\u001b[49m\u001b[43m)\u001b[49m\n",
            "Cell \u001b[1;32mIn[19], line 108\u001b[0m, in \u001b[0;36mcheck_df\u001b[1;34m(df)\u001b[0m\n\u001b[0;32m    107\u001b[0m \u001b[38;5;28;01mdef\u001b[39;00m \u001b[38;5;21mcheck_df\u001b[39m(df):\n\u001b[1;32m--> 108\u001b[0m     df[[\u001b[38;5;124m'\u001b[39m\u001b[38;5;124mStatut\u001b[39m\u001b[38;5;124m'\u001b[39m,\u001b[38;5;124m'\u001b[39m\u001b[38;5;124mtitre_si_trouvé\u001b[39m\u001b[38;5;124m'\u001b[39m,\u001b[38;5;124m'\u001b[39m\u001b[38;5;124murl_hal_si_trouvé\u001b[39m\u001b[38;5;124m'\u001b[39m]]\u001b[38;5;241m=\u001b[39m\u001b[43mdf\u001b[49m\u001b[38;5;241;43m.\u001b[39;49m\u001b[43mprogress_apply\u001b[49m\u001b[43m(\u001b[49m\u001b[38;5;28;43;01mlambda\u001b[39;49;00m\u001b[43m \u001b[49m\u001b[43mx\u001b[49m\u001b[43m:\u001b[49m\u001b[43mstatut_doi\u001b[49m\u001b[43m(\u001b[49m\u001b[43mx\u001b[49m\u001b[43m[\u001b[49m\u001b[38;5;124;43m'\u001b[39;49m\u001b[38;5;124;43mdoi\u001b[39;49m\u001b[38;5;124;43m'\u001b[39;49m\u001b[43m]\u001b[49m\u001b[43m)\u001b[49m\u001b[43m \u001b[49m\n\u001b[0;32m    109\u001b[0m \u001b[43m                                                                           \u001b[49m\u001b[38;5;28;43;01mif\u001b[39;49;00m\u001b[43m \u001b[49m\u001b[43mstatut_doi\u001b[49m\u001b[43m(\u001b[49m\u001b[43mx\u001b[49m\u001b[43m[\u001b[49m\u001b[38;5;124;43m'\u001b[39;49m\u001b[38;5;124;43mdoi\u001b[39;49m\u001b[38;5;124;43m'\u001b[39;49m\u001b[43m]\u001b[49m\u001b[43m)\u001b[49m\u001b[43m[\u001b[49m\u001b[38;5;241;43m0\u001b[39;49m\u001b[43m]\u001b[49m\u001b[43m \u001b[49m\u001b[38;5;129;43;01min\u001b[39;49;00m\u001b[43m \u001b[49m\u001b[43m(\u001b[49m\u001b[38;5;124;43m\"\u001b[39;49m\u001b[38;5;124;43mDans la collection\u001b[39;49m\u001b[38;5;124;43m\"\u001b[39;49m\u001b[43m,\u001b[49m\u001b[38;5;124;43m\"\u001b[39;49m\u001b[38;5;124;43mDans HAL mais hors de la collection\u001b[39;49m\u001b[38;5;124;43m\"\u001b[39;49m\u001b[43m)\u001b[49m\u001b[43m \u001b[49m\n\u001b[0;32m    110\u001b[0m \u001b[43m                                                                           \u001b[49m\u001b[38;5;28;43;01melse\u001b[39;49;00m\u001b[43m \u001b[49m\u001b[43mstatut_titre\u001b[49m\u001b[43m(\u001b[49m\u001b[43mx\u001b[49m\u001b[43m[\u001b[49m\u001b[38;5;124;43m'\u001b[39;49m\u001b[38;5;124;43mTitle\u001b[39;49m\u001b[38;5;124;43m'\u001b[39;49m\u001b[43m]\u001b[49m\u001b[43m)\u001b[49m\u001b[43m,\u001b[49m\u001b[43maxis\u001b[49m\u001b[38;5;241;43m=\u001b[39;49m\u001b[38;5;241;43m1\u001b[39;49m\u001b[43m)\u001b[49m\u001b[38;5;241m.\u001b[39mtolist()\n",
            "File \u001b[1;32mc:\\Users\\hbretel\\AppData\\Local\\Programs\\Python\\Python312\\Lib\\site-packages\\tqdm\\std.py:917\u001b[0m, in \u001b[0;36mtqdm.pandas.<locals>.inner_generator.<locals>.inner\u001b[1;34m(df, func, *args, **kwargs)\u001b[0m\n\u001b[0;32m    914\u001b[0m \u001b[38;5;66;03m# Apply the provided function (in **kwargs)\u001b[39;00m\n\u001b[0;32m    915\u001b[0m \u001b[38;5;66;03m# on the df using our wrapper (which provides bar updating)\u001b[39;00m\n\u001b[0;32m    916\u001b[0m \u001b[38;5;28;01mtry\u001b[39;00m:\n\u001b[1;32m--> 917\u001b[0m     \u001b[38;5;28;01mreturn\u001b[39;00m \u001b[38;5;28;43mgetattr\u001b[39;49m\u001b[43m(\u001b[49m\u001b[43mdf\u001b[49m\u001b[43m,\u001b[49m\u001b[43m \u001b[49m\u001b[43mdf_function\u001b[49m\u001b[43m)\u001b[49m\u001b[43m(\u001b[49m\u001b[43mwrapper\u001b[49m\u001b[43m,\u001b[49m\u001b[43m \u001b[49m\u001b[38;5;241;43m*\u001b[39;49m\u001b[38;5;241;43m*\u001b[39;49m\u001b[43mkwargs\u001b[49m\u001b[43m)\u001b[49m\n\u001b[0;32m    918\u001b[0m \u001b[38;5;28;01mfinally\u001b[39;00m:\n\u001b[0;32m    919\u001b[0m     t\u001b[38;5;241m.\u001b[39mclose()\n",
            "File \u001b[1;32mc:\\Users\\hbretel\\AppData\\Local\\Programs\\Python\\Python312\\Lib\\site-packages\\pandas\\core\\frame.py:10374\u001b[0m, in \u001b[0;36mDataFrame.apply\u001b[1;34m(self, func, axis, raw, result_type, args, by_row, engine, engine_kwargs, **kwargs)\u001b[0m\n\u001b[0;32m  10360\u001b[0m \u001b[38;5;28;01mfrom\u001b[39;00m \u001b[38;5;21;01mpandas\u001b[39;00m\u001b[38;5;21;01m.\u001b[39;00m\u001b[38;5;21;01mcore\u001b[39;00m\u001b[38;5;21;01m.\u001b[39;00m\u001b[38;5;21;01mapply\u001b[39;00m \u001b[38;5;28;01mimport\u001b[39;00m frame_apply\n\u001b[0;32m  10362\u001b[0m op \u001b[38;5;241m=\u001b[39m frame_apply(\n\u001b[0;32m  10363\u001b[0m     \u001b[38;5;28mself\u001b[39m,\n\u001b[0;32m  10364\u001b[0m     func\u001b[38;5;241m=\u001b[39mfunc,\n\u001b[1;32m   (...)\u001b[0m\n\u001b[0;32m  10372\u001b[0m     kwargs\u001b[38;5;241m=\u001b[39mkwargs,\n\u001b[0;32m  10373\u001b[0m )\n\u001b[1;32m> 10374\u001b[0m \u001b[38;5;28;01mreturn\u001b[39;00m \u001b[43mop\u001b[49m\u001b[38;5;241;43m.\u001b[39;49m\u001b[43mapply\u001b[49m\u001b[43m(\u001b[49m\u001b[43m)\u001b[49m\u001b[38;5;241m.\u001b[39m__finalize__(\u001b[38;5;28mself\u001b[39m, method\u001b[38;5;241m=\u001b[39m\u001b[38;5;124m\"\u001b[39m\u001b[38;5;124mapply\u001b[39m\u001b[38;5;124m\"\u001b[39m)\n",
            "File \u001b[1;32mc:\\Users\\hbretel\\AppData\\Local\\Programs\\Python\\Python312\\Lib\\site-packages\\pandas\\core\\apply.py:916\u001b[0m, in \u001b[0;36mFrameApply.apply\u001b[1;34m(self)\u001b[0m\n\u001b[0;32m    913\u001b[0m \u001b[38;5;28;01melif\u001b[39;00m \u001b[38;5;28mself\u001b[39m\u001b[38;5;241m.\u001b[39mraw:\n\u001b[0;32m    914\u001b[0m     \u001b[38;5;28;01mreturn\u001b[39;00m \u001b[38;5;28mself\u001b[39m\u001b[38;5;241m.\u001b[39mapply_raw(engine\u001b[38;5;241m=\u001b[39m\u001b[38;5;28mself\u001b[39m\u001b[38;5;241m.\u001b[39mengine, engine_kwargs\u001b[38;5;241m=\u001b[39m\u001b[38;5;28mself\u001b[39m\u001b[38;5;241m.\u001b[39mengine_kwargs)\n\u001b[1;32m--> 916\u001b[0m \u001b[38;5;28;01mreturn\u001b[39;00m \u001b[38;5;28;43mself\u001b[39;49m\u001b[38;5;241;43m.\u001b[39;49m\u001b[43mapply_standard\u001b[49m\u001b[43m(\u001b[49m\u001b[43m)\u001b[49m\n",
            "File \u001b[1;32mc:\\Users\\hbretel\\AppData\\Local\\Programs\\Python\\Python312\\Lib\\site-packages\\pandas\\core\\apply.py:1063\u001b[0m, in \u001b[0;36mFrameApply.apply_standard\u001b[1;34m(self)\u001b[0m\n\u001b[0;32m   1061\u001b[0m \u001b[38;5;28;01mdef\u001b[39;00m \u001b[38;5;21mapply_standard\u001b[39m(\u001b[38;5;28mself\u001b[39m):\n\u001b[0;32m   1062\u001b[0m     \u001b[38;5;28;01mif\u001b[39;00m \u001b[38;5;28mself\u001b[39m\u001b[38;5;241m.\u001b[39mengine \u001b[38;5;241m==\u001b[39m \u001b[38;5;124m\"\u001b[39m\u001b[38;5;124mpython\u001b[39m\u001b[38;5;124m\"\u001b[39m:\n\u001b[1;32m-> 1063\u001b[0m         results, res_index \u001b[38;5;241m=\u001b[39m \u001b[38;5;28;43mself\u001b[39;49m\u001b[38;5;241;43m.\u001b[39;49m\u001b[43mapply_series_generator\u001b[49m\u001b[43m(\u001b[49m\u001b[43m)\u001b[49m\n\u001b[0;32m   1064\u001b[0m     \u001b[38;5;28;01melse\u001b[39;00m:\n\u001b[0;32m   1065\u001b[0m         results, res_index \u001b[38;5;241m=\u001b[39m \u001b[38;5;28mself\u001b[39m\u001b[38;5;241m.\u001b[39mapply_series_numba()\n",
            "File \u001b[1;32mc:\\Users\\hbretel\\AppData\\Local\\Programs\\Python\\Python312\\Lib\\site-packages\\pandas\\core\\apply.py:1081\u001b[0m, in \u001b[0;36mFrameApply.apply_series_generator\u001b[1;34m(self)\u001b[0m\n\u001b[0;32m   1078\u001b[0m \u001b[38;5;28;01mwith\u001b[39;00m option_context(\u001b[38;5;124m\"\u001b[39m\u001b[38;5;124mmode.chained_assignment\u001b[39m\u001b[38;5;124m\"\u001b[39m, \u001b[38;5;28;01mNone\u001b[39;00m):\n\u001b[0;32m   1079\u001b[0m     \u001b[38;5;28;01mfor\u001b[39;00m i, v \u001b[38;5;129;01min\u001b[39;00m \u001b[38;5;28menumerate\u001b[39m(series_gen):\n\u001b[0;32m   1080\u001b[0m         \u001b[38;5;66;03m# ignore SettingWithCopy here in case the user mutates\u001b[39;00m\n\u001b[1;32m-> 1081\u001b[0m         results[i] \u001b[38;5;241m=\u001b[39m \u001b[38;5;28;43mself\u001b[39;49m\u001b[38;5;241;43m.\u001b[39;49m\u001b[43mfunc\u001b[49m\u001b[43m(\u001b[49m\u001b[43mv\u001b[49m\u001b[43m,\u001b[49m\u001b[43m \u001b[49m\u001b[38;5;241;43m*\u001b[39;49m\u001b[38;5;28;43mself\u001b[39;49m\u001b[38;5;241;43m.\u001b[39;49m\u001b[43margs\u001b[49m\u001b[43m,\u001b[49m\u001b[43m \u001b[49m\u001b[38;5;241;43m*\u001b[39;49m\u001b[38;5;241;43m*\u001b[39;49m\u001b[38;5;28;43mself\u001b[39;49m\u001b[38;5;241;43m.\u001b[39;49m\u001b[43mkwargs\u001b[49m\u001b[43m)\u001b[49m\n\u001b[0;32m   1082\u001b[0m         \u001b[38;5;28;01mif\u001b[39;00m \u001b[38;5;28misinstance\u001b[39m(results[i], ABCSeries):\n\u001b[0;32m   1083\u001b[0m             \u001b[38;5;66;03m# If we have a view on v, we need to make a copy because\u001b[39;00m\n\u001b[0;32m   1084\u001b[0m             \u001b[38;5;66;03m#  series_generator will swap out the underlying data\u001b[39;00m\n\u001b[0;32m   1085\u001b[0m             results[i] \u001b[38;5;241m=\u001b[39m results[i]\u001b[38;5;241m.\u001b[39mcopy(deep\u001b[38;5;241m=\u001b[39m\u001b[38;5;28;01mFalse\u001b[39;00m)\n",
            "File \u001b[1;32mc:\\Users\\hbretel\\AppData\\Local\\Programs\\Python\\Python312\\Lib\\site-packages\\tqdm\\std.py:912\u001b[0m, in \u001b[0;36mtqdm.pandas.<locals>.inner_generator.<locals>.inner.<locals>.wrapper\u001b[1;34m(*args, **kwargs)\u001b[0m\n\u001b[0;32m    906\u001b[0m \u001b[38;5;28;01mdef\u001b[39;00m \u001b[38;5;21mwrapper\u001b[39m(\u001b[38;5;241m*\u001b[39margs, \u001b[38;5;241m*\u001b[39m\u001b[38;5;241m*\u001b[39mkwargs):\n\u001b[0;32m    907\u001b[0m     \u001b[38;5;66;03m# update tbar correctly\u001b[39;00m\n\u001b[0;32m    908\u001b[0m     \u001b[38;5;66;03m# it seems `pandas apply` calls `func` twice\u001b[39;00m\n\u001b[0;32m    909\u001b[0m     \u001b[38;5;66;03m# on the first column/row to decide whether it can\u001b[39;00m\n\u001b[0;32m    910\u001b[0m     \u001b[38;5;66;03m# take a fast or slow code path; so stop when t.total==t.n\u001b[39;00m\n\u001b[0;32m    911\u001b[0m     t\u001b[38;5;241m.\u001b[39mupdate(n\u001b[38;5;241m=\u001b[39m\u001b[38;5;241m1\u001b[39m \u001b[38;5;28;01mif\u001b[39;00m \u001b[38;5;129;01mnot\u001b[39;00m t\u001b[38;5;241m.\u001b[39mtotal \u001b[38;5;129;01mor\u001b[39;00m t\u001b[38;5;241m.\u001b[39mn \u001b[38;5;241m<\u001b[39m t\u001b[38;5;241m.\u001b[39mtotal \u001b[38;5;28;01melse\u001b[39;00m \u001b[38;5;241m0\u001b[39m)\n\u001b[1;32m--> 912\u001b[0m     \u001b[38;5;28;01mreturn\u001b[39;00m \u001b[43mfunc\u001b[49m\u001b[43m(\u001b[49m\u001b[38;5;241;43m*\u001b[39;49m\u001b[43margs\u001b[49m\u001b[43m,\u001b[49m\u001b[43m \u001b[49m\u001b[38;5;241;43m*\u001b[39;49m\u001b[38;5;241;43m*\u001b[39;49m\u001b[43mkwargs\u001b[49m\u001b[43m)\u001b[49m\n",
            "Cell \u001b[1;32mIn[19], line 109\u001b[0m, in \u001b[0;36mcheck_df.<locals>.<lambda>\u001b[1;34m(x)\u001b[0m\n\u001b[0;32m    107\u001b[0m \u001b[38;5;28;01mdef\u001b[39;00m \u001b[38;5;21mcheck_df\u001b[39m(df):\n\u001b[0;32m    108\u001b[0m     df[[\u001b[38;5;124m'\u001b[39m\u001b[38;5;124mStatut\u001b[39m\u001b[38;5;124m'\u001b[39m,\u001b[38;5;124m'\u001b[39m\u001b[38;5;124mtitre_si_trouvé\u001b[39m\u001b[38;5;124m'\u001b[39m,\u001b[38;5;124m'\u001b[39m\u001b[38;5;124murl_hal_si_trouvé\u001b[39m\u001b[38;5;124m'\u001b[39m]]\u001b[38;5;241m=\u001b[39mdf\u001b[38;5;241m.\u001b[39mprogress_apply(\u001b[38;5;28;01mlambda\u001b[39;00m x:statut_doi(x[\u001b[38;5;124m'\u001b[39m\u001b[38;5;124mdoi\u001b[39m\u001b[38;5;124m'\u001b[39m]) \n\u001b[1;32m--> 109\u001b[0m                                                                            \u001b[38;5;28;01mif\u001b[39;00m \u001b[43mstatut_doi\u001b[49m\u001b[43m(\u001b[49m\u001b[43mx\u001b[49m\u001b[43m[\u001b[49m\u001b[38;5;124;43m'\u001b[39;49m\u001b[38;5;124;43mdoi\u001b[39;49m\u001b[38;5;124;43m'\u001b[39;49m\u001b[43m]\u001b[49m\u001b[43m)\u001b[49m[\u001b[38;5;241m0\u001b[39m] \u001b[38;5;129;01min\u001b[39;00m (\u001b[38;5;124m\"\u001b[39m\u001b[38;5;124mDans la collection\u001b[39m\u001b[38;5;124m\"\u001b[39m,\u001b[38;5;124m\"\u001b[39m\u001b[38;5;124mDans HAL mais hors de la collection\u001b[39m\u001b[38;5;124m\"\u001b[39m) \n\u001b[0;32m    110\u001b[0m                                                                            \u001b[38;5;28;01melse\u001b[39;00m statut_titre(x[\u001b[38;5;124m'\u001b[39m\u001b[38;5;124mTitle\u001b[39m\u001b[38;5;124m'\u001b[39m]),axis\u001b[38;5;241m=\u001b[39m\u001b[38;5;241m1\u001b[39m)\u001b[38;5;241m.\u001b[39mtolist()\n",
            "Cell \u001b[1;32mIn[19], line 103\u001b[0m, in \u001b[0;36mstatut_doi\u001b[1;34m(do)\u001b[0m\n\u001b[0;32m    101\u001b[0m         \u001b[38;5;28;01mreturn\u001b[39;00m [\u001b[38;5;124m\"\u001b[39m\u001b[38;5;124mDans la collection\u001b[39m\u001b[38;5;124m\"\u001b[39m,coll_df[coll_df[\u001b[38;5;124m'\u001b[39m\u001b[38;5;124mDOIs\u001b[39m\u001b[38;5;124m'\u001b[39m]\u001b[38;5;241m==\u001b[39mdo]\u001b[38;5;241m.\u001b[39miloc[\u001b[38;5;241m0\u001b[39m,\u001b[38;5;241m2\u001b[39m],coll_df[coll_df[\u001b[38;5;124m'\u001b[39m\u001b[38;5;124mDOIs\u001b[39m\u001b[38;5;124m'\u001b[39m]\u001b[38;5;241m==\u001b[39mdo]\u001b[38;5;241m.\u001b[39miloc[\u001b[38;5;241m0\u001b[39m,\u001b[38;5;241m0\u001b[39m]]\n\u001b[0;32m    102\u001b[0m     \u001b[38;5;28;01melse\u001b[39;00m:\n\u001b[1;32m--> 103\u001b[0m         \u001b[38;5;28;01mreturn\u001b[39;00m \u001b[43mdoi_in_hal\u001b[49m\u001b[43m(\u001b[49m\u001b[43mndo\u001b[49m\u001b[43m)\u001b[49m\n\u001b[0;32m    104\u001b[0m \u001b[38;5;28;01melif\u001b[39;00m do\u001b[38;5;241m!=\u001b[39mdo:\n\u001b[0;32m    105\u001b[0m     \u001b[38;5;28;01mreturn\u001b[39;00m [\u001b[38;5;124m\"\u001b[39m\u001b[38;5;124mpas de DOI valide\u001b[39m\u001b[38;5;124m\"\u001b[39m,\u001b[38;5;124m\"\u001b[39m\u001b[38;5;124m\"\u001b[39m,\u001b[38;5;124m\"\u001b[39m\u001b[38;5;124m\"\u001b[39m]\n",
            "Cell \u001b[1;32mIn[19], line 91\u001b[0m, in \u001b[0;36mdoi_in_hal\u001b[1;34m(ndo)\u001b[0m\n\u001b[0;32m     89\u001b[0m \u001b[38;5;28;01mdef\u001b[39;00m \u001b[38;5;21mdoi_in_hal\u001b[39m(ndo):\n\u001b[0;32m     90\u001b[0m     r\u001b[38;5;241m=\u001b[39mrequests\u001b[38;5;241m.\u001b[39mget(\u001b[38;5;124mf\u001b[39m\u001b[38;5;124m\"\u001b[39m\u001b[38;5;132;01m{\u001b[39;00mendpoint\u001b[38;5;132;01m}\u001b[39;00m\u001b[38;5;124m?q=doiId_id:\u001b[39m\u001b[38;5;132;01m{\u001b[39;00mndo\u001b[38;5;132;01m}\u001b[39;00m\u001b[38;5;124m&rows=1&fl=docid,title_s\u001b[39m\u001b[38;5;124m\"\u001b[39m)\u001b[38;5;241m.\u001b[39mjson()\n\u001b[1;32m---> 91\u001b[0m     \u001b[38;5;28;01mif\u001b[39;00m \u001b[43mr\u001b[49m\u001b[43m[\u001b[49m\u001b[38;5;124;43m'\u001b[39;49m\u001b[38;5;124;43mresponse\u001b[39;49m\u001b[38;5;124;43m'\u001b[39;49m\u001b[43m]\u001b[49m[\u001b[38;5;124m'\u001b[39m\u001b[38;5;124mnumFound\u001b[39m\u001b[38;5;124m'\u001b[39m] \u001b[38;5;241m>\u001b[39m\u001b[38;5;241m0\u001b[39m:\n\u001b[0;32m     92\u001b[0m         \u001b[38;5;28;01mreturn\u001b[39;00m [\u001b[38;5;124m\"\u001b[39m\u001b[38;5;124mDans HAL mais hors de la collection\u001b[39m\u001b[38;5;124m\"\u001b[39m,\n\u001b[0;32m     93\u001b[0m                 r[\u001b[38;5;124m'\u001b[39m\u001b[38;5;124mresponse\u001b[39m\u001b[38;5;124m'\u001b[39m][\u001b[38;5;124m'\u001b[39m\u001b[38;5;124mdocs\u001b[39m\u001b[38;5;124m'\u001b[39m][\u001b[38;5;241m0\u001b[39m][\u001b[38;5;124m'\u001b[39m\u001b[38;5;124mtitle_s\u001b[39m\u001b[38;5;124m'\u001b[39m][\u001b[38;5;241m0\u001b[39m],\n\u001b[0;32m     94\u001b[0m                 r[\u001b[38;5;124m'\u001b[39m\u001b[38;5;124mresponse\u001b[39m\u001b[38;5;124m'\u001b[39m][\u001b[38;5;124m'\u001b[39m\u001b[38;5;124mdocs\u001b[39m\u001b[38;5;124m'\u001b[39m][\u001b[38;5;241m0\u001b[39m][\u001b[38;5;124m'\u001b[39m\u001b[38;5;124mdocid\u001b[39m\u001b[38;5;124m'\u001b[39m]]\n\u001b[0;32m     95\u001b[0m     \u001b[38;5;28;01mreturn\u001b[39;00m [\u001b[38;5;124m\"\u001b[39m\u001b[38;5;124mhors HAL\u001b[39m\u001b[38;5;124m\"\u001b[39m,\u001b[38;5;124m\"\u001b[39m\u001b[38;5;124m\"\u001b[39m,\u001b[38;5;124m\"\u001b[39m\u001b[38;5;124m\"\u001b[39m]\n",
            "\u001b[1;31mKeyError\u001b[0m: 'response'"
          ]
        }
      ],
      "source": [
        "check_df(dois_a_checker)"
      ]
    },
    {
      "cell_type": "markdown",
      "metadata": {
        "id": "j1q9EyEWyXVz"
      },
      "source": [
        "Réexporter le fichier du labo. La colonne \"Statut\" y a été ajoutée, elle permet de savoir quelles publications sont déjà dans la collection du labo, lesquelles sont dans HAL mais pas dans la collection (probablement mal affiliées), et lesquelles ne sont pas dans HAL."
      ]
    },
    {
      "cell_type": "code",
      "execution_count": null,
      "metadata": {
        "id": "2Mvu61aDpqDP"
      },
      "outputs": [],
      "source": [
        "dois_a_checker.to_excel(fichier.replace(\".xlsx\",\"_traite.xlsx\"),index=False)"
      ]
    },
    {
      "cell_type": "markdown",
      "metadata": {
        "id": "qSCCEFSBE-qr"
      },
      "source": [
        "Les publications qui n'ont pas de DOI ni de titre valide (notées \"titre invalide\") devront être laissées telles quelles ou vérifiées manuellement si elles sont en très petit nombre. Les publications présentes dans HAL mais pas dans la collection peuvent être dans cette situation pour différentes raisons, mais la plus probable est qu'elles sont mal affiliées : leur auteur peut demander le partage de propriété au déposant afin de corriger les informations d'affiliation. Les publications notées \"hors HAL\" peuvent également être dans HAL mais sans DOI : c'est aux chercheurs de vérifier dans quel cas ils se trouvent."
      ]
    }
  ],
  "metadata": {
    "colab": {
      "provenance": []
    },
    "kernelspec": {
      "display_name": "Python 3.7.16 ('IPERU')",
      "language": "python",
      "name": "python3"
    },
    "language_info": {
      "codemirror_mode": {
        "name": "ipython",
        "version": 3
      },
      "file_extension": ".py",
      "mimetype": "text/x-python",
      "name": "python",
      "nbconvert_exporter": "python",
      "pygments_lexer": "ipython3",
      "version": "3.12.3"
    },
    "vscode": {
      "interpreter": {
        "hash": "6ed4be5eb7a69aa7ca9df846a5842570904c96dadbb0fd6e1c88bcda5c7efd60"
      }
    }
  },
  "nbformat": 4,
  "nbformat_minor": 0
}
