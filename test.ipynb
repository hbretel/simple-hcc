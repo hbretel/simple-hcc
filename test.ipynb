{
 "cells": [
  {
   "cell_type": "markdown",
   "metadata": {},
   "source": [
    "# Vérifier si des publications sont dans la collection HAL d'un laboratoire\n",
    "Charger les \"librairies\" (boîtes à outils de code) qui seront nécessaires pour l'opération.\n",
    "Si nécessaire, les installer d'abord."
   ]
  },
  {
   "cell_type": "code",
   "execution_count": 12,
   "metadata": {},
   "outputs": [
    {
     "data": {
      "text/plain": [
       "''"
      ]
     },
     "execution_count": 12,
     "metadata": {},
     "output_type": "execute_result"
    }
   ],
   "source": [
    "import pandas as pd\n",
    "from tqdm import tqdm\n",
    "import tkinter as tk\n",
    "from tkinter import filedialog as fd\n",
    "from functions import check_df,normalise\n",
    "from halcollimporter import HalCollImporter\n",
    "tqdm.pandas()\n",
    "tk.Tk().withdraw()"
   ]
  },
  {
   "cell_type": "markdown",
   "metadata": {},
   "source": [
    "## Informations données par l'utilisateur"
   ]
  },
  {
   "cell_type": "markdown",
   "metadata": {},
   "source": [
    "Ecrire dans la fenêtre ouverte par la cellule suivante le code de la collection à vérifier"
   ]
  },
  {
   "cell_type": "code",
   "execution_count": 13,
   "metadata": {},
   "outputs": [],
   "source": [
    "collection_a_chercher=tk.simpledialog.askstring(prompt=\"Entrez le code de la collection HAL de votre structure\",title='Code de la collection').upper()\n",
    "fichier=fd.askopenfilename(title='Choisissez le fichier qui contient les publications à vérifier')"
   ]
  },
  {
   "cell_type": "markdown",
   "metadata": {},
   "source": [
    "## Chargement des données à comparer"
   ]
  },
  {
   "cell_type": "markdown",
   "metadata": {},
   "source": [
    "Choisir dans la fenêtre ouverte par la cellule suivante le fichier contenant les publications à comparer avec HAL. Ce doit être un fichier Excel ou un csv issu de HAL."
   ]
  },
  {
   "cell_type": "code",
   "execution_count": null,
   "metadata": {},
   "outputs": [],
   "source": [
    "try:\n",
    "    publis_a_checker=pd.read_excel(fichier)\n",
    "except ValueError:\n",
    "    publis_a_checker=pd.read_csv(fichier)\n",
    "publis_a_checker.rename({\"doiId_s\":'doi',\"DOI\":'doi',\"title_s\":\"Title\",\"title\":\"Title\",\"display_name\":\"Title\",\"Article Title\":\"Title\",\"Publication Year\":\"Year\"},axis='columns',inplace=True)\n",
    "publis_a_checker['Statut']=''\n",
    "if \"Year\" in publis_a_checker.columns:\n",
    "    date_debut=int(min(publis_a_checker['Year'].tolist())-1)\n",
    "    date_fin=int(max(publis_a_checker['Year'].tolist())+1)\n",
    "else:\n",
    "    date_debut=None\n",
    "    date_fin=None"
   ]
  },
  {
   "cell_type": "markdown",
   "metadata": {},
   "source": [
    "## Import de la collection HAL"
   ]
  },
  {
   "cell_type": "markdown",
   "metadata": {},
   "source": [
    "Charger depuis HAL les documents de la collection"
   ]
  },
  {
   "cell_type": "code",
   "execution_count": 15,
   "metadata": {},
   "outputs": [
    {
     "name": "stdout",
     "output_type": "stream",
     "text": [
      "publications trouvées : 1458\n",
      "terminé : 1458 publications chargées\t"
     ]
    }
   ],
   "source": [
    "coll=HalCollImporter(collection_a_chercher,date_debut,date_fin)\n",
    "valid=tk.messagebox.askokcancel(title=\"Importer les publications ?\", message=f\"{coll.nbdocs} publications trouvées pour {coll.coll_code} sur la période. Les importer ?\")\n",
    "if valid==True:\n",
    "    coll_df=coll.import_data()"
   ]
  },
  {
   "cell_type": "markdown",
   "metadata": {},
   "source": [
    "## Traitement principal"
   ]
  },
  {
   "cell_type": "markdown",
   "metadata": {},
   "source": [
    "Comparer les publications du fichier du labo avec celles issues de HAL. C'est l'opération la plus complexe car chaque ligne fait l'objet de deux comparaisons potentielles : DOI et titre."
   ]
  },
  {
   "cell_type": "code",
   "execution_count": 16,
   "metadata": {},
   "outputs": [
    {
     "name": "stderr",
     "output_type": "stream",
     "text": [
      "100%|██████████| 279/279 [00:34<00:00,  7.98it/s]\n"
     ]
    }
   ],
   "source": [
    "coll_df['nti']=coll_df['Titres'].apply(lambda x : normalise(x).strip())\n",
    "check_df(publis_a_checker,coll_df)"
   ]
  },
  {
   "cell_type": "markdown",
   "metadata": {},
   "source": [
    "## Export du résultat"
   ]
  },
  {
   "cell_type": "markdown",
   "metadata": {},
   "source": [
    "Réexporter le fichier du labo. Quatre colonnes ont été ajoutées, \"Statut\", \"Titre si trouvé\", \"Identifiant HAL si trouvé\", et \"Type de dépôt si trouvé\".\n",
    "- La colonne \"Statut\" permet de savoir quelles publications sont déjà dans la collection du labo, lesquelles sont dans HAL mais pas dans la collection (probablement mal affiliées), et lesquelles ne sont pas dans HAL.\n",
    "- La colonne \"Titre si trouvé\" permet de comparer le titre trouvé dans HAL avec le titre d'origine du document, pour s'assurer qu'il s'agit bien des mêmes. Cette étape est faite par le code mais une vérification manuelle est souvent utile, en particulier lorsque le statut est \"Titre inexact trouvé\".\n",
    "- La colonne \"Identifiant HAL si trouvé\" permet de vérifier directement dans HAL si certaines informations sont manquantes.\n",
    "- La colonne \"Type de dépôt si trouvé\" permet, pour les publications présentes dans HAL, de vérifier s'il s'agit seulement de notices ou si le texte intégral est présent."
   ]
  },
  {
   "cell_type": "code",
   "execution_count": null,
   "metadata": {},
   "outputs": [],
   "source": [
    "if \".xlsx\" in fichier :\n",
    "    publis_a_checker.to_excel(fichier.replace(\".xlsx\",\"_traite.xlsx\"),index=False)\n",
    "else : publis_a_checker.to_excel(fichier.replace(\".csv\",\"_traite.xlsx\"),index=False)"
   ]
  },
  {
   "cell_type": "code",
   "execution_count": null,
   "metadata": {},
   "outputs": [],
   "source": []
  }
 ],
 "metadata": {
  "kernelspec": {
   "display_name": "Python 3",
   "language": "python",
   "name": "python3"
  },
  "language_info": {
   "codemirror_mode": {
    "name": "ipython",
    "version": 3
   },
   "file_extension": ".py",
   "mimetype": "text/x-python",
   "name": "python",
   "nbconvert_exporter": "python",
   "pygments_lexer": "ipython3",
   "version": "3.12.3"
  }
 },
 "nbformat": 4,
 "nbformat_minor": 2
}
