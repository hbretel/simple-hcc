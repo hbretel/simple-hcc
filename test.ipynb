{
 "cells": [
  {
   "cell_type": "markdown",
   "metadata": {},
   "source": [
    "# Vérifier si des publications sont dans la collection HAL d'un laboratoire\n",
    "Charger les \"librairies\" (boîtes à outils de code) qui seront nécessaires pour l'opération.\n",
    "Si nécessaire, les installer d'abord."
   ]
  },
  {
   "cell_type": "code",
   "execution_count": 12,
   "metadata": {},
   "outputs": [
    {
     "data": {
      "text/plain": [
       "''"
      ]
     },
     "execution_count": 12,
     "metadata": {},
     "output_type": "execute_result"
    }
   ],
   "source": [
    "import pandas as pd\n",
    "from tqdm import tqdm\n",
    "import tkinter as tk\n",
    "from tkinter import filedialog as fd\n",
    "from functions import check_df,normalise\n",
    "from halcollimporter import HalCollImporter\n",
    "tqdm.pandas()\n",
    "tk.Tk().withdraw()"
   ]
  },
  {
   "cell_type": "markdown",
   "metadata": {},
   "source": [
    "## Informations données par l'utilisateur"
   ]
  },
  {
   "cell_type": "markdown",
   "metadata": {},
   "source": [
    "Ecrire dans la fenêtre ouverte par la cellule suivante le code de la collection à vérifier"
   ]
  },
  {
   "cell_type": "code",
   "execution_count": 13,
   "metadata": {},
   "outputs": [],
   "source": [
    "collection_a_chercher=tk.simpledialog.askstring(prompt=\"Entrez le code de la collection HAL de votre structure\",title='Code de la collection').upper()\n",
    "fichier=fd.askopenfilename(title='Choisissez le fichier qui contient les publications à vérifier')"
   ]
  },
  {
   "cell_type": "markdown",
   "metadata": {},
   "source": [
    "## Chargement des données à comparer"
   ]
  },
  {
   "cell_type": "markdown",
   "metadata": {},
   "source": [
    "Choisir dans la fenêtre ouverte par la cellule suivante le fichier contenant les publications à comparer avec HAL. Ce doit être un fichier Excel."
   ]
  },
  {
   "cell_type": "code",
   "execution_count": 14,
   "metadata": {},
   "outputs": [],
   "source": [
    "publis_a_checker=pd.read_excel(fichier)\n",
    "publis_a_checker.rename({\"DOI\":'doi',\"display_name\":\"Title\",\"Article Title\":\"Title\",\"Publication Year\":\"Year\"},axis='columns',inplace=True)\n",
    "publis_a_checker['Statut']=''\n",
    "if \"Year\" in publis_a_checker.columns:\n",
    "    date_debut=int(min(publis_a_checker['Year'].tolist())-1)\n",
    "    date_fin=int(max(publis_a_checker['Year'].tolist())+1)\n",
    "else:\n",
    "    date_debut=None\n",
    "    date_fin=None"
   ]
  },
  {
   "cell_type": "markdown",
   "metadata": {},
   "source": [
    "## Import de la collection HAL"
   ]
  },
  {
   "cell_type": "markdown",
   "metadata": {},
   "source": [
    "Charger depuis HAL les documents de la collection"
   ]
  },
  {
   "cell_type": "code",
   "execution_count": 8,
   "metadata": {},
   "outputs": [
    {
     "data": {
      "text/plain": [
       "2024"
      ]
     },
     "execution_count": 8,
     "metadata": {},
     "output_type": "execute_result"
    }
   ],
   "source": [
    "date_fin"
   ]
  },
  {
   "cell_type": "code",
   "execution_count": 15,
   "metadata": {},
   "outputs": [
    {
     "name": "stdout",
     "output_type": "stream",
     "text": [
      "publications trouvées : 1458\n",
      "terminé : 1458 publications chargées\t"
     ]
    }
   ],
   "source": [
    "coll=HalCollImporter(collection_a_chercher,date_debut,date_fin)\n",
    "valid=tk.messagebox.askokcancel(title=\"Importer les publications ?\", message=f\"{coll.nbdocs} publications trouvées pour {coll.coll_code} sur la période. Les importer ?\")\n",
    "if valid==True:\n",
    "    coll_df=coll.import_data()"
   ]
  },
  {
   "cell_type": "markdown",
   "metadata": {},
   "source": [
    "## Traitement principal"
   ]
  },
  {
   "cell_type": "markdown",
   "metadata": {},
   "source": [
    "Comparer les publications du fichier du labo avec celles issues de HAL. C'est l'opération la plus complexe car chaque ligne fait l'objet de deux comparaisons potentielles : DOI et titre."
   ]
  },
  {
   "cell_type": "code",
   "execution_count": 16,
   "metadata": {},
   "outputs": [
    {
     "name": "stderr",
     "output_type": "stream",
     "text": [
      "100%|██████████| 279/279 [00:34<00:00,  7.98it/s]\n"
     ]
    }
   ],
   "source": [
    "coll_df['nti']=coll_df['Titres'].apply(lambda x : normalise(x).strip())\n",
    "check_df(publis_a_checker,coll_df)"
   ]
  },
  {
   "cell_type": "markdown",
   "metadata": {},
   "source": [
    "## Export du résultat"
   ]
  },
  {
   "cell_type": "markdown",
   "metadata": {},
   "source": [
    "Réexporter le fichier du labo. Quatre colonnes ont été ajoutées, \"Statut\", \"Titre si trouvé\", \"Identifiant HAL si trouvé\", et \"Type de dépôt si trouvé\".\n",
    "- La colonne \"Statut\" permet de savoir quelles publications sont déjà dans la collection du labo, lesquelles sont dans HAL mais pas dans la collection (probablement mal affiliées), et lesquelles ne sont pas dans HAL.\n",
    "- La colonne \"Titre si trouvé\" permet de comparer le titre trouvé dans HAL avec le titre d'origine du document, pour s'assurer qu'il s'agit bien des mêmes. Cette étape est faite par le code mais une vérification manuelle est souvent utile, en particulier lorsque le statut est \"Titre inexact trouvé\".\n",
    "- La colonne \"Identifiant HAL si trouvé\" permet de vérifier directement dans HAL si certaines informations sont manquantes.\n",
    "- La colonne \"Type de dépôt si trouvé\" permet, pour les publications présentes dans HAL, de vérifier s'il s'agit seulement de notices ou si le texte intégral est présent."
   ]
  },
  {
   "cell_type": "code",
   "execution_count": 17,
   "metadata": {},
   "outputs": [],
   "source": [
    "publis_a_checker.to_excel(fichier.replace(\".xlsx\",\"_traite.xlsx\"),index=False)"
   ]
  },
  {
   "cell_type": "code",
   "execution_count": 11,
   "metadata": {},
   "outputs": [
    {
     "data": {
      "text/html": [
       "<div>\n",
       "<style scoped>\n",
       "    .dataframe tbody tr th:only-of-type {\n",
       "        vertical-align: middle;\n",
       "    }\n",
       "\n",
       "    .dataframe tbody tr th {\n",
       "        vertical-align: top;\n",
       "    }\n",
       "\n",
       "    .dataframe thead th {\n",
       "        text-align: right;\n",
       "    }\n",
       "</style>\n",
       "<table border=\"1\" class=\"dataframe\">\n",
       "  <thead>\n",
       "    <tr style=\"text-align: right;\">\n",
       "      <th></th>\n",
       "      <th>Title</th>\n",
       "      <th>doi</th>\n",
       "      <th>Authors</th>\n",
       "      <th>Author full names</th>\n",
       "      <th>Author(s) ID</th>\n",
       "      <th>Year</th>\n",
       "      <th>Source title</th>\n",
       "      <th>Volume</th>\n",
       "      <th>Issue</th>\n",
       "      <th>Art. No.</th>\n",
       "      <th>...</th>\n",
       "      <th>Language of Original Document</th>\n",
       "      <th>Abbreviated Source Title</th>\n",
       "      <th>Document Type</th>\n",
       "      <th>Publication Stage</th>\n",
       "      <th>Open Access</th>\n",
       "      <th>Source</th>\n",
       "      <th>EID</th>\n",
       "      <th>Statut</th>\n",
       "      <th>titre_si_trouvé</th>\n",
       "      <th>url_hal_si_trouvé</th>\n",
       "    </tr>\n",
       "  </thead>\n",
       "  <tbody>\n",
       "    <tr>\n",
       "      <th>278</th>\n",
       "      <td>Spray Cooling of a Rod Bundle with a Counter-C...</td>\n",
       "      <td>10.13182/NURETH20-40184</td>\n",
       "      <td>Brillant G.</td>\n",
       "      <td>Brillant, G. (6507826976)</td>\n",
       "      <td>6507826976</td>\n",
       "      <td>2023.0</td>\n",
       "      <td>Proceedings of the 20th International Topical ...</td>\n",
       "      <td>NaN</td>\n",
       "      <td>NaN</td>\n",
       "      <td>NaN</td>\n",
       "      <td>...</td>\n",
       "      <td>English</td>\n",
       "      <td>Proc. Int. Top. Meet. Nucl. React. Therm. Hydr...</td>\n",
       "      <td>Conference paper</td>\n",
       "      <td>Final</td>\n",
       "      <td>NaN</td>\n",
       "      <td>Scopus</td>\n",
       "      <td>2-s2.0-85202339824</td>\n",
       "      <td></td>\n",
       "      <td>NaN</td>\n",
       "      <td>NaN</td>\n",
       "    </tr>\n",
       "    <tr>\n",
       "      <th>279</th>\n",
       "      <td>NaN</td>\n",
       "      <td>NaN</td>\n",
       "      <td>NaN</td>\n",
       "      <td>NaN</td>\n",
       "      <td>NaN</td>\n",
       "      <td>NaN</td>\n",
       "      <td>NaN</td>\n",
       "      <td>NaN</td>\n",
       "      <td>NaN</td>\n",
       "      <td>NaN</td>\n",
       "      <td>...</td>\n",
       "      <td>NaN</td>\n",
       "      <td>NaN</td>\n",
       "      <td>NaN</td>\n",
       "      <td>NaN</td>\n",
       "      <td>NaN</td>\n",
       "      <td>NaN</td>\n",
       "      <td>NaN</td>\n",
       "      <td></td>\n",
       "      <td>NaN</td>\n",
       "      <td>NaN</td>\n",
       "    </tr>\n",
       "    <tr>\n",
       "      <th>280</th>\n",
       "      <td>NaN</td>\n",
       "      <td>NaN</td>\n",
       "      <td>NaN</td>\n",
       "      <td>NaN</td>\n",
       "      <td>NaN</td>\n",
       "      <td>NaN</td>\n",
       "      <td>NaN</td>\n",
       "      <td>NaN</td>\n",
       "      <td>NaN</td>\n",
       "      <td>NaN</td>\n",
       "      <td>...</td>\n",
       "      <td>NaN</td>\n",
       "      <td>NaN</td>\n",
       "      <td>NaN</td>\n",
       "      <td>NaN</td>\n",
       "      <td>NaN</td>\n",
       "      <td>NaN</td>\n",
       "      <td>NaN</td>\n",
       "      <td></td>\n",
       "      <td>NaN</td>\n",
       "      <td>NaN</td>\n",
       "    </tr>\n",
       "    <tr>\n",
       "      <th>281</th>\n",
       "      <td>NaN</td>\n",
       "      <td>NaN</td>\n",
       "      <td>NaN</td>\n",
       "      <td>NaN</td>\n",
       "      <td>NaN</td>\n",
       "      <td>NaN</td>\n",
       "      <td>NaN</td>\n",
       "      <td>NaN</td>\n",
       "      <td>NaN</td>\n",
       "      <td>NaN</td>\n",
       "      <td>...</td>\n",
       "      <td>NaN</td>\n",
       "      <td>NaN</td>\n",
       "      <td>NaN</td>\n",
       "      <td>NaN</td>\n",
       "      <td>NaN</td>\n",
       "      <td>NaN</td>\n",
       "      <td>NaN</td>\n",
       "      <td></td>\n",
       "      <td>NaN</td>\n",
       "      <td>NaN</td>\n",
       "    </tr>\n",
       "  </tbody>\n",
       "</table>\n",
       "<p>4 rows × 49 columns</p>\n",
       "</div>"
      ],
      "text/plain": [
       "                                                 Title  \\\n",
       "278  Spray Cooling of a Rod Bundle with a Counter-C...   \n",
       "279                                                NaN   \n",
       "280                                                NaN   \n",
       "281                                                NaN   \n",
       "\n",
       "                         doi      Authors          Author full names  \\\n",
       "278  10.13182/NURETH20-40184  Brillant G.  Brillant, G. (6507826976)   \n",
       "279                      NaN          NaN                        NaN   \n",
       "280                      NaN          NaN                        NaN   \n",
       "281                      NaN          NaN                        NaN   \n",
       "\n",
       "    Author(s) ID    Year                                       Source title  \\\n",
       "278   6507826976  2023.0  Proceedings of the 20th International Topical ...   \n",
       "279          NaN     NaN                                                NaN   \n",
       "280          NaN     NaN                                                NaN   \n",
       "281          NaN     NaN                                                NaN   \n",
       "\n",
       "    Volume Issue Art. No.  ... Language of Original Document  \\\n",
       "278    NaN   NaN      NaN  ...                       English   \n",
       "279    NaN   NaN      NaN  ...                           NaN   \n",
       "280    NaN   NaN      NaN  ...                           NaN   \n",
       "281    NaN   NaN      NaN  ...                           NaN   \n",
       "\n",
       "                              Abbreviated Source Title     Document Type  \\\n",
       "278  Proc. Int. Top. Meet. Nucl. React. Therm. Hydr...  Conference paper   \n",
       "279                                                NaN               NaN   \n",
       "280                                                NaN               NaN   \n",
       "281                                                NaN               NaN   \n",
       "\n",
       "     Publication Stage Open Access  Source                 EID Statut  \\\n",
       "278              Final         NaN  Scopus  2-s2.0-85202339824          \n",
       "279                NaN         NaN     NaN                 NaN          \n",
       "280                NaN         NaN     NaN                 NaN          \n",
       "281                NaN         NaN     NaN                 NaN          \n",
       "\n",
       "    titre_si_trouvé url_hal_si_trouvé  \n",
       "278             NaN               NaN  \n",
       "279             NaN               NaN  \n",
       "280             NaN               NaN  \n",
       "281             NaN               NaN  \n",
       "\n",
       "[4 rows x 49 columns]"
      ]
     },
     "execution_count": 11,
     "metadata": {},
     "output_type": "execute_result"
    }
   ],
   "source": [
    "publis_a_checker[278:282]"
   ]
  },
  {
   "cell_type": "code",
   "execution_count": 18,
   "metadata": {},
   "outputs": [
    {
     "data": {
      "text/plain": [
       "Index(['Hal_ids', 'DOIs', 'Titres', 'Types de dépôts', 'nti'], dtype='object')"
      ]
     },
     "execution_count": 18,
     "metadata": {},
     "output_type": "execute_result"
    }
   ],
   "source": [
    "coll_df.columns"
   ]
  },
  {
   "cell_type": "code",
   "execution_count": 23,
   "metadata": {},
   "outputs": [
    {
     "data": {
      "text/plain": [
       "'Use of the new dynamic cone penetrometer for the study of soil liquefaction along the Kupa River\\\\, Petrinja area (Croatia)'"
      ]
     },
     "execution_count": 23,
     "metadata": {},
     "output_type": "execute_result"
    }
   ],
   "source": [
    "publis_a_checker['Title'][8]"
   ]
  },
  {
   "cell_type": "code",
   "execution_count": 22,
   "metadata": {},
   "outputs": [
    {
     "data": {
      "text/plain": [
       "'Use of the new dynamic cone penetrometer for the study of soil liquefaction along the Kupa River, Petrinja area (Croatia)'"
      ]
     },
     "execution_count": 22,
     "metadata": {},
     "output_type": "execute_result"
    }
   ],
   "source": [
    "coll_df['Titres'][67]"
   ]
  },
  {
   "cell_type": "code",
   "execution_count": null,
   "metadata": {},
   "outputs": [],
   "source": []
  }
 ],
 "metadata": {
  "kernelspec": {
   "display_name": "Python 3",
   "language": "python",
   "name": "python3"
  },
  "language_info": {
   "codemirror_mode": {
    "name": "ipython",
    "version": 3
   },
   "file_extension": ".py",
   "mimetype": "text/x-python",
   "name": "python",
   "nbconvert_exporter": "python",
   "pygments_lexer": "ipython3",
   "version": "3.12.3"
  }
 },
 "nbformat": 4,
 "nbformat_minor": 2
}
